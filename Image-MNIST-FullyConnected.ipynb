{
 "cells": [
  {
   "cell_type": "code",
   "execution_count": 2,
   "id": "b4866cf9",
   "metadata": {},
   "outputs": [],
   "source": [
    "import torch\n",
    "from torch import nn\n",
    "from torch.utils.data import DataLoader\n",
    "from torchvision import datasets\n",
    "from torchvision.transforms import ToTensor\n",
    "\n",
    "import matplotlib.pyplot as plt\n",
    "import numpy as np"
   ]
  },
  {
   "cell_type": "code",
   "execution_count": 6,
   "id": "5621891b",
   "metadata": {
    "scrolled": true
   },
   "outputs": [
    {
     "name": "stdout",
     "output_type": "stream",
     "text": [
      "Dataset MNIST\n",
      "    Number of datapoints: 60000\n",
      "    Root location: data\n",
      "    Split: Train\n",
      "    StandardTransform\n",
      "Transform: ToTensor()\n",
      "Dataset MNIST\n",
      "    Number of datapoints: 10000\n",
      "    Root location: data\n",
      "    Split: Test\n",
      "    StandardTransform\n",
      "Transform: ToTensor()\n"
     ]
    }
   ],
   "source": [
    "# Download training data from open datasets.\n",
    "training_data = datasets.MNIST(\n",
    "    root=\"data\",\n",
    "    train=True,\n",
    "    download=True,\n",
    "    transform=ToTensor(),\n",
    ")\n",
    "\n",
    "# Download test data from open datasets.\n",
    "test_data = datasets.MNIST(\n",
    "    root=\"data\",\n",
    "    train=False,\n",
    "    download=True,\n",
    "    transform=ToTensor(),\n",
    ")\n",
    "\n",
    "classes = test_data.classes\n",
    "\n",
    "print(training_data)\n",
    "print(test_data)"
   ]
  },
  {
   "cell_type": "code",
   "execution_count": 7,
   "id": "329c941d",
   "metadata": {},
   "outputs": [
    {
     "name": "stdout",
     "output_type": "stream",
     "text": [
      "Shape of X [N, C, H, W]: torch.Size([1, 1, 28, 28])\n",
      "Shape of y: torch.Size([1]) torch.int64\n",
      "\n",
      "tensor([[[[0.0000, 0.0000, 0.0000, 0.0000, 0.0000, 0.0000, 0.0000, 0.0000,\n",
      "           0.0000, 0.0000, 0.0000, 0.0000, 0.0000, 0.0000, 0.0000, 0.0000,\n",
      "           0.0000, 0.0000, 0.0000, 0.0000, 0.0000, 0.0000, 0.0000, 0.0000,\n",
      "           0.0000, 0.0000, 0.0000, 0.0000],\n",
      "          [0.0000, 0.0000, 0.0000, 0.0000, 0.0000, 0.0000, 0.0000, 0.0000,\n",
      "           0.0000, 0.0000, 0.0000, 0.0000, 0.0000, 0.0000, 0.0000, 0.0000,\n",
      "           0.0000, 0.0000, 0.0000, 0.0000, 0.0000, 0.0000, 0.0000, 0.0000,\n",
      "           0.0000, 0.0000, 0.0000, 0.0000],\n",
      "          [0.0000, 0.0000, 0.0000, 0.0000, 0.0000, 0.0000, 0.0000, 0.0000,\n",
      "           0.0000, 0.0000, 0.0000, 0.0000, 0.0000, 0.0000, 0.0000, 0.0000,\n",
      "           0.0000, 0.0000, 0.0000, 0.0000, 0.0000, 0.0000, 0.0000, 0.0000,\n",
      "           0.0000, 0.0000, 0.0000, 0.0000],\n",
      "          [0.0000, 0.0000, 0.0000, 0.0000, 0.0000, 0.0000, 0.0000, 0.0000,\n",
      "           0.0000, 0.0000, 0.0000, 0.0000, 0.0000, 0.0000, 0.0000, 0.0000,\n",
      "           0.0000, 0.0000, 0.0000, 0.0000, 0.0000, 0.0000, 0.0000, 0.0000,\n",
      "           0.0000, 0.0000, 0.0000, 0.0000],\n",
      "          [0.0000, 0.0000, 0.0000, 0.0000, 0.0000, 0.0000, 0.0000, 0.0000,\n",
      "           0.0000, 0.0000, 0.0000, 0.0000, 0.0000, 0.0000, 0.0000, 0.0000,\n",
      "           0.0000, 0.0000, 0.0000, 0.0000, 0.0000, 0.0000, 0.0000, 0.0000,\n",
      "           0.0000, 0.0000, 0.0000, 0.0000],\n",
      "          [0.0000, 0.0000, 0.0000, 0.0000, 0.0000, 0.0000, 0.0000, 0.0000,\n",
      "           0.0000, 0.0000, 0.0000, 0.0000, 0.0000, 0.0000, 0.0000, 0.0000,\n",
      "           0.0000, 0.0000, 0.0000, 0.0000, 0.0000, 0.0000, 0.0000, 0.0000,\n",
      "           0.0000, 0.0000, 0.0000, 0.0000],\n",
      "          [0.0000, 0.0000, 0.0000, 0.0000, 0.0000, 0.0000, 0.0000, 0.0000,\n",
      "           0.0000, 0.0000, 0.0000, 0.0000, 0.0000, 0.0000, 0.0000, 0.0000,\n",
      "           0.0000, 0.0000, 0.0000, 0.0000, 0.0000, 0.0000, 0.0000, 0.0000,\n",
      "           0.0000, 0.0000, 0.0000, 0.0000],\n",
      "          [0.0000, 0.0000, 0.0000, 0.0000, 0.0000, 0.0000, 0.3294, 0.7255,\n",
      "           0.6235, 0.5922, 0.2353, 0.1412, 0.0000, 0.0000, 0.0000, 0.0000,\n",
      "           0.0000, 0.0000, 0.0000, 0.0000, 0.0000, 0.0000, 0.0000, 0.0000,\n",
      "           0.0000, 0.0000, 0.0000, 0.0000],\n",
      "          [0.0000, 0.0000, 0.0000, 0.0000, 0.0000, 0.0000, 0.8706, 0.9961,\n",
      "           0.9961, 0.9961, 0.9961, 0.9451, 0.7765, 0.7765, 0.7765, 0.7765,\n",
      "           0.7765, 0.7765, 0.7765, 0.7765, 0.6667, 0.2039, 0.0000, 0.0000,\n",
      "           0.0000, 0.0000, 0.0000, 0.0000],\n",
      "          [0.0000, 0.0000, 0.0000, 0.0000, 0.0000, 0.0000, 0.2627, 0.4471,\n",
      "           0.2824, 0.4471, 0.6392, 0.8902, 0.9961, 0.8824, 0.9961, 0.9961,\n",
      "           0.9961, 0.9804, 0.8980, 0.9961, 0.9961, 0.5490, 0.0000, 0.0000,\n",
      "           0.0000, 0.0000, 0.0000, 0.0000],\n",
      "          [0.0000, 0.0000, 0.0000, 0.0000, 0.0000, 0.0000, 0.0000, 0.0000,\n",
      "           0.0000, 0.0000, 0.0000, 0.0667, 0.2588, 0.0549, 0.2627, 0.2627,\n",
      "           0.2627, 0.2314, 0.0824, 0.9255, 0.9961, 0.4157, 0.0000, 0.0000,\n",
      "           0.0000, 0.0000, 0.0000, 0.0000],\n",
      "          [0.0000, 0.0000, 0.0000, 0.0000, 0.0000, 0.0000, 0.0000, 0.0000,\n",
      "           0.0000, 0.0000, 0.0000, 0.0000, 0.0000, 0.0000, 0.0000, 0.0000,\n",
      "           0.0000, 0.0000, 0.3255, 0.9922, 0.8196, 0.0706, 0.0000, 0.0000,\n",
      "           0.0000, 0.0000, 0.0000, 0.0000],\n",
      "          [0.0000, 0.0000, 0.0000, 0.0000, 0.0000, 0.0000, 0.0000, 0.0000,\n",
      "           0.0000, 0.0000, 0.0000, 0.0000, 0.0000, 0.0000, 0.0000, 0.0000,\n",
      "           0.0000, 0.0863, 0.9137, 1.0000, 0.3255, 0.0000, 0.0000, 0.0000,\n",
      "           0.0000, 0.0000, 0.0000, 0.0000],\n",
      "          [0.0000, 0.0000, 0.0000, 0.0000, 0.0000, 0.0000, 0.0000, 0.0000,\n",
      "           0.0000, 0.0000, 0.0000, 0.0000, 0.0000, 0.0000, 0.0000, 0.0000,\n",
      "           0.0000, 0.5059, 0.9961, 0.9333, 0.1725, 0.0000, 0.0000, 0.0000,\n",
      "           0.0000, 0.0000, 0.0000, 0.0000],\n",
      "          [0.0000, 0.0000, 0.0000, 0.0000, 0.0000, 0.0000, 0.0000, 0.0000,\n",
      "           0.0000, 0.0000, 0.0000, 0.0000, 0.0000, 0.0000, 0.0000, 0.0000,\n",
      "           0.2314, 0.9765, 0.9961, 0.2431, 0.0000, 0.0000, 0.0000, 0.0000,\n",
      "           0.0000, 0.0000, 0.0000, 0.0000],\n",
      "          [0.0000, 0.0000, 0.0000, 0.0000, 0.0000, 0.0000, 0.0000, 0.0000,\n",
      "           0.0000, 0.0000, 0.0000, 0.0000, 0.0000, 0.0000, 0.0000, 0.0000,\n",
      "           0.5216, 0.9961, 0.7333, 0.0196, 0.0000, 0.0000, 0.0000, 0.0000,\n",
      "           0.0000, 0.0000, 0.0000, 0.0000],\n",
      "          [0.0000, 0.0000, 0.0000, 0.0000, 0.0000, 0.0000, 0.0000, 0.0000,\n",
      "           0.0000, 0.0000, 0.0000, 0.0000, 0.0000, 0.0000, 0.0000, 0.0353,\n",
      "           0.8039, 0.9725, 0.2275, 0.0000, 0.0000, 0.0000, 0.0000, 0.0000,\n",
      "           0.0000, 0.0000, 0.0000, 0.0000],\n",
      "          [0.0000, 0.0000, 0.0000, 0.0000, 0.0000, 0.0000, 0.0000, 0.0000,\n",
      "           0.0000, 0.0000, 0.0000, 0.0000, 0.0000, 0.0000, 0.0000, 0.4941,\n",
      "           0.9961, 0.7137, 0.0000, 0.0000, 0.0000, 0.0000, 0.0000, 0.0000,\n",
      "           0.0000, 0.0000, 0.0000, 0.0000],\n",
      "          [0.0000, 0.0000, 0.0000, 0.0000, 0.0000, 0.0000, 0.0000, 0.0000,\n",
      "           0.0000, 0.0000, 0.0000, 0.0000, 0.0000, 0.0000, 0.2941, 0.9843,\n",
      "           0.9412, 0.2235, 0.0000, 0.0000, 0.0000, 0.0000, 0.0000, 0.0000,\n",
      "           0.0000, 0.0000, 0.0000, 0.0000],\n",
      "          [0.0000, 0.0000, 0.0000, 0.0000, 0.0000, 0.0000, 0.0000, 0.0000,\n",
      "           0.0000, 0.0000, 0.0000, 0.0000, 0.0000, 0.0745, 0.8667, 0.9961,\n",
      "           0.6510, 0.0000, 0.0000, 0.0000, 0.0000, 0.0000, 0.0000, 0.0000,\n",
      "           0.0000, 0.0000, 0.0000, 0.0000],\n",
      "          [0.0000, 0.0000, 0.0000, 0.0000, 0.0000, 0.0000, 0.0000, 0.0000,\n",
      "           0.0000, 0.0000, 0.0000, 0.0000, 0.0118, 0.7961, 0.9961, 0.8588,\n",
      "           0.1373, 0.0000, 0.0000, 0.0000, 0.0000, 0.0000, 0.0000, 0.0000,\n",
      "           0.0000, 0.0000, 0.0000, 0.0000],\n",
      "          [0.0000, 0.0000, 0.0000, 0.0000, 0.0000, 0.0000, 0.0000, 0.0000,\n",
      "           0.0000, 0.0000, 0.0000, 0.0000, 0.1490, 0.9961, 0.9961, 0.3020,\n",
      "           0.0000, 0.0000, 0.0000, 0.0000, 0.0000, 0.0000, 0.0000, 0.0000,\n",
      "           0.0000, 0.0000, 0.0000, 0.0000],\n",
      "          [0.0000, 0.0000, 0.0000, 0.0000, 0.0000, 0.0000, 0.0000, 0.0000,\n",
      "           0.0000, 0.0000, 0.0000, 0.1216, 0.8784, 0.9961, 0.4510, 0.0039,\n",
      "           0.0000, 0.0000, 0.0000, 0.0000, 0.0000, 0.0000, 0.0000, 0.0000,\n",
      "           0.0000, 0.0000, 0.0000, 0.0000],\n",
      "          [0.0000, 0.0000, 0.0000, 0.0000, 0.0000, 0.0000, 0.0000, 0.0000,\n",
      "           0.0000, 0.0000, 0.0000, 0.5216, 0.9961, 0.9961, 0.2039, 0.0000,\n",
      "           0.0000, 0.0000, 0.0000, 0.0000, 0.0000, 0.0000, 0.0000, 0.0000,\n",
      "           0.0000, 0.0000, 0.0000, 0.0000],\n",
      "          [0.0000, 0.0000, 0.0000, 0.0000, 0.0000, 0.0000, 0.0000, 0.0000,\n",
      "           0.0000, 0.0000, 0.2392, 0.9490, 0.9961, 0.9961, 0.2039, 0.0000,\n",
      "           0.0000, 0.0000, 0.0000, 0.0000, 0.0000, 0.0000, 0.0000, 0.0000,\n",
      "           0.0000, 0.0000, 0.0000, 0.0000],\n",
      "          [0.0000, 0.0000, 0.0000, 0.0000, 0.0000, 0.0000, 0.0000, 0.0000,\n",
      "           0.0000, 0.0000, 0.4745, 0.9961, 0.9961, 0.8588, 0.1569, 0.0000,\n",
      "           0.0000, 0.0000, 0.0000, 0.0000, 0.0000, 0.0000, 0.0000, 0.0000,\n",
      "           0.0000, 0.0000, 0.0000, 0.0000],\n",
      "          [0.0000, 0.0000, 0.0000, 0.0000, 0.0000, 0.0000, 0.0000, 0.0000,\n",
      "           0.0000, 0.0000, 0.4745, 0.9961, 0.8118, 0.0706, 0.0000, 0.0000,\n",
      "           0.0000, 0.0000, 0.0000, 0.0000, 0.0000, 0.0000, 0.0000, 0.0000,\n",
      "           0.0000, 0.0000, 0.0000, 0.0000],\n",
      "          [0.0000, 0.0000, 0.0000, 0.0000, 0.0000, 0.0000, 0.0000, 0.0000,\n",
      "           0.0000, 0.0000, 0.0000, 0.0000, 0.0000, 0.0000, 0.0000, 0.0000,\n",
      "           0.0000, 0.0000, 0.0000, 0.0000, 0.0000, 0.0000, 0.0000, 0.0000,\n",
      "           0.0000, 0.0000, 0.0000, 0.0000]]]])\n",
      "tensor([7])\n",
      "7\n"
     ]
    }
   ],
   "source": [
    "batch_size = 1\n",
    "\n",
    "# Create data loaders.\n",
    "train_dataloader = DataLoader(training_data, batch_size=batch_size)\n",
    "test_dataloader = DataLoader(test_data, batch_size=batch_size)\n",
    "\n",
    "for X, y in test_dataloader:\n",
    "    print(f\"Shape of X [N, C, H, W]: {X.shape}\")\n",
    "    print(f\"Shape of y: {y.shape} {y.dtype}\\n\")\n",
    "    print(X)\n",
    "    print(y)\n",
    "    print(y[0].item())\n",
    "    break\n"
   ]
  },
  {
   "cell_type": "code",
   "execution_count": 8,
   "id": "ee385081",
   "metadata": {},
   "outputs": [
    {
     "name": "stdout",
     "output_type": "stream",
     "text": [
      "7 - seven\n"
     ]
    },
    {
     "data": {
      "image/png": "[encoded data removed]",
      "text/plain": [
       "<Figure size 640x480 with 1 Axes>"
      ]
     },
     "metadata": {},
     "output_type": "display_data"
    }
   ],
   "source": [
    "label = classes[y[0].item()]\n",
    "print(label)\n",
    "imgplot = plt.imshow(X[0][0])"
   ]
  },
  {
   "cell_type": "code",
   "execution_count": 9,
   "id": "6e08bdec",
   "metadata": {},
   "outputs": [
    {
     "name": "stdout",
     "output_type": "stream",
     "text": [
      "Shape of X [N, C, H, W]: torch.Size([64, 1, 28, 28])\n",
      "Shape of y: torch.Size([64]) torch.int64\n"
     ]
    }
   ],
   "source": [
    "batch_size = 64\n",
    "\n",
    "# Create data loaders.\n",
    "train_dataloader = DataLoader(training_data, batch_size=batch_size)\n",
    "test_dataloader = DataLoader(test_data, batch_size=batch_size)\n",
    "\n",
    "for X, y in test_dataloader:\n",
    "    print(f\"Shape of X [N, C, H, W]: {X.shape}\")\n",
    "    print(f\"Shape of y: {y.shape} {y.dtype}\")\n",
    "    break\n",
    "    "
   ]
  },
  {
   "cell_type": "code",
   "execution_count": 10,
   "id": "a4dd8606",
   "metadata": {
    "scrolled": true
   },
   "outputs": [
    {
     "name": "stdout",
     "output_type": "stream",
     "text": [
      "Using cpu device\n",
      "NeuralNetwork(\n",
      "  (flatten): Flatten(start_dim=1, end_dim=-1)\n",
      "  (linear_relu_stack): Sequential(\n",
      "    (0): Linear(in_features=784, out_features=512, bias=True)\n",
      "    (1): ReLU()\n",
      "    (2): Linear(in_features=512, out_features=512, bias=True)\n",
      "    (3): ReLU()\n",
      "    (4): Linear(in_features=512, out_features=10, bias=True)\n",
      "  )\n",
      ")\n"
     ]
    }
   ],
   "source": [
    "# Get cpu, gpu or mps device for training.\n",
    "\n",
    "device = (\"cuda\" if torch.cuda.is_available() \n",
    "                 else \"mps\" if torch.backends.mps.is_available() \n",
    "                            else \"cpu\")\n",
    "\n",
    "print(f\"Using {device} device\")\n",
    "\n",
    "# Define model\n",
    "class NeuralNetwork(nn.Module):\n",
    "    def __init__(self):\n",
    "        super().__init__()\n",
    "        self.flatten = nn.Flatten()\n",
    "        self.linear_relu_stack = nn.Sequential(\n",
    "            nn.Linear(28*28, 512),\n",
    "            nn.ReLU(),\n",
    "            nn.Linear(512, 512),\n",
    "            nn.ReLU(),\n",
    "            nn.Linear(512, 10)\n",
    "        )\n",
    "\n",
    "    def forward(self, x):\n",
    "        x = self.flatten(x)\n",
    "        logits = self.linear_relu_stack(x)\n",
    "        return logits\n",
    "\n",
    "model = NeuralNetwork().to(device)\n",
    "print(model)"
   ]
  },
  {
   "cell_type": "code",
   "execution_count": 11,
   "id": "46c65f9d",
   "metadata": {},
   "outputs": [
    {
     "name": "stdout",
     "output_type": "stream",
     "text": [
      "linear_relu_stack.4.weight tensor([[ 0.0255,  0.0243, -0.0242,  ...,  0.0084, -0.0252,  0.0223],\n",
      "        [-0.0251, -0.0298, -0.0338,  ...,  0.0338,  0.0137,  0.0024],\n",
      "        [ 0.0219,  0.0304,  0.0342,  ...,  0.0271, -0.0039,  0.0304],\n",
      "        ...,\n",
      "        [-0.0357,  0.0069,  0.0375,  ...,  0.0401, -0.0361, -0.0313],\n",
      "        [-0.0124, -0.0362, -0.0394,  ...,  0.0131,  0.0391, -0.0023],\n",
      "        [ 0.0338,  0.0085,  0.0368,  ...,  0.0059, -0.0169,  0.0086]])\n",
      "linear_relu_stack.4.bias tensor([ 0.0311,  0.0343,  0.0112,  0.0318,  0.0183,  0.0223, -0.0407, -0.0413,\n",
      "        -0.0005,  0.0245])\n"
     ]
    }
   ],
   "source": [
    "\n",
    "for name, param in model.named_parameters():\n",
    "    if param.requires_grad:\n",
    "        if \"linear_relu_stack.4.\" in name:\n",
    "            print(name, param.data)"
   ]
  },
  {
   "cell_type": "code",
   "execution_count": 12,
   "id": "d4620d5f",
   "metadata": {},
   "outputs": [],
   "source": [
    "loss_fn = nn.CrossEntropyLoss()\n",
    "optimizer = torch.optim.SGD(model.parameters(), lr=1e-3)"
   ]
  },
  {
   "cell_type": "code",
   "execution_count": 13,
   "id": "8ecb17df",
   "metadata": {},
   "outputs": [],
   "source": [
    "def train(dataloader, model, loss_fn, optimizer):\n",
    "    losses, accuracies = [],[]\n",
    "    size = len(dataloader.dataset)\n",
    "    model.train()\n",
    "    for batch, (X, y) in enumerate(dataloader):\n",
    "        X, y = X.to(device), y.to(device)\n",
    "        \n",
    "        optimizer.zero_grad()\n",
    "        # Compute prediction error\n",
    "        pred = model(X)\n",
    "        loss = loss_fn(pred, y)\n",
    "\n",
    "        # Backpropagation\n",
    "        loss.backward()\n",
    "        # Nudge\n",
    "        optimizer.step()\n",
    "\n",
    "        if batch % 100 == 0:\n",
    "            loss, current = loss.item(), (batch + 1) * len(X)\n",
    "            print(f\"loss: {loss:>7f}  [{current:>5d}/{size:>5d}]\")\n",
    "            accuracy = (torch.sum((torch.argmax(pred, dim=1) == y).type(torch.float))/len(y)).item()\n",
    "            losses.append(loss)\n",
    "            accuracies.append(accuracy)\n",
    "    return losses, accuracies"
   ]
  },
  {
   "cell_type": "code",
   "execution_count": 14,
   "id": "16b1e05e",
   "metadata": {},
   "outputs": [],
   "source": [
    "def test(dataloader, model, loss_fn):\n",
    "    size = len(dataloader.dataset)\n",
    "    num_batches = len(dataloader)\n",
    "    model.eval()\n",
    "    test_loss, correct = 0, 0\n",
    "    with torch.no_grad():\n",
    "        for X, y in dataloader:\n",
    "            X, y = X.to(device), y.to(device)\n",
    "            pred = model(X)\n",
    "            test_loss += loss_fn(pred, y).item()\n",
    "            correct += (pred.argmax(1) == y).type(torch.float).sum().item()\n",
    "    test_loss /= num_batches\n",
    "    correct /= size\n",
    "    print(f\"Test Error: \\n Accuracy: {(100*correct):>0.1f}%, Avg loss: {test_loss:>8f} \\n\")"
   ]
  },
  {
   "cell_type": "code",
   "execution_count": 15,
   "id": "d48c4111",
   "metadata": {},
   "outputs": [
    {
     "name": "stdout",
     "output_type": "stream",
     "text": [
      "Shape of X [N, C, H, W]: torch.Size([64, 1, 28, 28])\n",
      "Shape of y: torch.Size([64]) torch.int64\n",
      "Epoch 1\n",
      "-------------------------------\n",
      "loss: 2.305172  [   64/60000]\n",
      "loss: 2.288159  [ 6464/60000]\n",
      "loss: 2.292326  [12864/60000]\n",
      "loss: 2.291423  [19264/60000]\n",
      "loss: 2.289953  [25664/60000]\n",
      "loss: 2.276921  [32064/60000]\n",
      "loss: 2.270233  [38464/60000]\n",
      "loss: 2.280453  [44864/60000]\n",
      "loss: 2.265040  [51264/60000]\n",
      "loss: 2.261686  [57664/60000]\n",
      "Test Error: \n",
      " Accuracy: 43.0%, Avg loss: 2.257806 \n",
      "\n",
      "Epoch 2\n",
      "-------------------------------\n",
      "loss: 2.260578  [   64/60000]\n",
      "loss: 2.240587  [ 6464/60000]\n",
      "loss: 2.254778  [12864/60000]\n",
      "loss: 2.231698  [19264/60000]\n",
      "loss: 2.243095  [25664/60000]\n",
      "loss: 2.229370  [32064/60000]\n",
      "loss: 2.211585  [38464/60000]\n",
      "loss: 2.239424  [44864/60000]\n",
      "loss: 2.206505  [51264/60000]\n",
      "loss: 2.197760  [57664/60000]\n",
      "Test Error: \n",
      " Accuracy: 56.9%, Avg loss: 2.195256 \n",
      "\n",
      "Epoch 3\n",
      "-------------------------------\n",
      "loss: 2.198280  [   64/60000]\n",
      "loss: 2.170527  [ 6464/60000]\n",
      "loss: 2.198286  [12864/60000]\n",
      "loss: 2.144417  [19264/60000]\n",
      "loss: 2.170800  [25664/60000]\n",
      "loss: 2.152991  [32064/60000]\n",
      "loss: 2.118161  [38464/60000]\n",
      "loss: 2.168895  [44864/60000]\n",
      "loss: 2.110963  [51264/60000]\n",
      "loss: 2.091531  [57664/60000]\n",
      "Test Error: \n",
      " Accuracy: 65.4%, Avg loss: 2.089980 \n",
      "\n",
      "Epoch 4\n",
      "-------------------------------\n",
      "loss: 2.093491  [   64/60000]\n",
      "loss: 2.050682  [ 6464/60000]\n",
      "loss: 2.100473  [12864/60000]\n",
      "loss: 1.998717  [19264/60000]\n",
      "loss: 2.043529  [25664/60000]\n",
      "loss: 2.018230  [32064/60000]\n",
      "loss: 1.957676  [38464/60000]\n",
      "loss: 2.039928  [44864/60000]\n",
      "loss: 1.946683  [51264/60000]\n",
      "loss: 1.908921  [57664/60000]\n",
      "Test Error: \n",
      " Accuracy: 70.3%, Avg loss: 1.907107 \n",
      "\n",
      "Epoch 5\n",
      "-------------------------------\n",
      "loss: 1.913830  [   64/60000]\n",
      "loss: 1.845385  [ 6464/60000]\n",
      "loss: 1.926057  [12864/60000]\n",
      "loss: 1.763513  [19264/60000]\n",
      "loss: 1.821775  [25664/60000]\n",
      "loss: 1.787193  [32064/60000]\n",
      "loss: 1.702931  [38464/60000]\n",
      "loss: 1.825147  [44864/60000]\n",
      "loss: 1.691902  [51264/60000]\n",
      "loss: 1.633086  [57664/60000]\n",
      "Test Error: \n",
      " Accuracy: 73.7%, Avg loss: 1.626642 \n",
      "\n",
      "Done!\n"
     ]
    }
   ],
   "source": [
    "batch_size = 64\n",
    "\n",
    "# Create data loaders.\n",
    "train_dataloader = DataLoader(training_data, batch_size=batch_size)\n",
    "test_dataloader = DataLoader(test_data, batch_size=batch_size)\n",
    "\n",
    "for X, y in test_dataloader:\n",
    "    print(f\"Shape of X [N, C, H, W]: {X.shape}\")\n",
    "    print(f\"Shape of y: {y.shape} {y.dtype}\")\n",
    "    break\n",
    "\n",
    "epochs = 5\n",
    "train_losses, train_accuracies = [], []\n",
    "for t in range(epochs):\n",
    "    print(f\"Epoch {t+1}\\n-------------------------------\")\n",
    "    losses, accuracies = train(train_dataloader, model, loss_fn, optimizer)\n",
    "    train_losses.extend(losses)\n",
    "    train_accuracies.extend(accuracies)\n",
    "    test(test_dataloader, model, loss_fn)\n",
    "print(\"Done!\")"
   ]
  },
  {
   "cell_type": "code",
   "execution_count": 16,
   "id": "aed81518",
   "metadata": {},
   "outputs": [
    {
     "data": {
      "image/png": "[encoded data removed]",
      "text/plain": [
       "<Figure size 640x480 with 1 Axes>"
      ]
     },
     "metadata": {},
     "output_type": "display_data"
    }
   ],
   "source": [
    "plt.plot(train_losses, label = \"loss\")\n",
    "plt.plot(train_accuracies, label = \"accuracy\")\n",
    "plt.legend(loc=\"upper left\")\n",
    "\n",
    "plt.show()"
   ]
  },
  {
   "cell_type": "code",
   "execution_count": 17,
   "id": "9cd5eda4",
   "metadata": {},
   "outputs": [
    {
     "name": "stdout",
     "output_type": "stream",
     "text": [
      "Saved PyTorch Model State to model.pth\n"
     ]
    }
   ],
   "source": [
    "torch.save(model.state_dict(), \"model.pth\")\n",
    "print(\"Saved PyTorch Model State to model.pth\")"
   ]
  },
  {
   "cell_type": "code",
   "execution_count": 18,
   "id": "991a3ff3",
   "metadata": {},
   "outputs": [
    {
     "data": {
      "text/plain": [
       "<All keys matched successfully>"
      ]
     },
     "execution_count": 18,
     "metadata": {},
     "output_type": "execute_result"
    }
   ],
   "source": [
    "model = NeuralNetwork().to(device)\n",
    "model.load_state_dict(torch.load(\"model.pth\"))"
   ]
  },
  {
   "cell_type": "code",
   "execution_count": 19,
   "id": "86cfa99a",
   "metadata": {},
   "outputs": [
    {
     "name": "stdout",
     "output_type": "stream",
     "text": [
      "torch.Size([1, 28, 28])\n",
      "7\n"
     ]
    },
    {
     "data": {
      "text/plain": [
       "10000"
      ]
     },
     "execution_count": 19,
     "metadata": {},
     "output_type": "execute_result"
    }
   ],
   "source": [
    "X, y = test_data[0]\n",
    "print(X.shape)\n",
    "print(y)\n",
    "test_data.classes[y]\n",
    "len(test_data)"
   ]
  },
  {
   "cell_type": "code",
   "execution_count": 20,
   "id": "b725999d",
   "metadata": {},
   "outputs": [
    {
     "data": {
      "text/plain": [
       "580"
      ]
     },
     "execution_count": 20,
     "metadata": {},
     "output_type": "execute_result"
    }
   ],
   "source": [
    "torch.randint(len(test_data),()).item()"
   ]
  },
  {
   "cell_type": "code",
   "execution_count": 21,
   "id": "f81164de",
   "metadata": {},
   "outputs": [
    {
     "name": "stdout",
     "output_type": "stream",
     "text": [
      "Predicted: 7 - seven Actual: 7 - seven\n"
     ]
    },
    {
     "data": {
      "image/png": "[encoded data removed]",
      "text/plain": [
       "<Figure size 640x480 with 1 Axes>"
      ]
     },
     "metadata": {},
     "output_type": "display_data"
    }
   ],
   "source": [
    "index = torch.randint(len(test_data),()).item()\n",
    "\n",
    "X, y = test_data[index]\n",
    "imgplot = plt.imshow(torch.squeeze(X))\n",
    "\n",
    "model.eval()\n",
    "with torch.no_grad():\n",
    "    X = X.to(device)\n",
    "    pred = model(X)\n",
    "\n",
    "class_index = torch.squeeze(torch.argmax(pred, dim=1)).item()\n",
    "\n",
    "test_data.classes[class_index]\n",
    "print(f\"Predicted: {test_data.classes[class_index]} Actual: {test_data.classes[y]}\")"
   ]
  },
  {
   "cell_type": "code",
   "execution_count": 18,
   "id": "02c7d8d1",
   "metadata": {},
   "outputs": [
    {
     "name": "stdout",
     "output_type": "stream",
     "text": [
      "Shape of X [N, C, H, W]: torch.Size([64, 1, 28, 28])\n",
      "Shape of y: torch.Size([64]) torch.int64\n"
     ]
    },
    {
     "data": {
      "text/plain": [
       "0.609375"
      ]
     },
     "execution_count": 18,
     "metadata": {},
     "output_type": "execute_result"
    }
   ],
   "source": [
    "for X, y in test_dataloader:\n",
    "    print(f\"Shape of X [N, C, H, W]: {X.shape}\")\n",
    "    print(f\"Shape of y: {y.shape} {y.dtype}\")\n",
    "    model.eval()\n",
    "    with torch.no_grad():\n",
    "        X = X.to(device)\n",
    "        pred = model(X)\n",
    "    break\n",
    "\n",
    "pred.shape\n",
    "(torch.sum((torch.argmax(pred, dim=1) == y).type(torch.float))/len(y)).item()"
   ]
  },
  {
   "cell_type": "code",
   "execution_count": 19,
   "id": "6eac5b69",
   "metadata": {},
   "outputs": [
    {
     "data": {
      "text/plain": [
       "tensor([9, 2, 1, 1, 6, 1, 4, 6, 5, 7, 4, 5, 7, 3, 4, 1, 2, 4, 8, 0, 2, 5, 7, 9,\n",
       "        1, 4, 6, 0, 9, 3, 8, 8, 3, 3, 8, 0, 7, 5, 7, 9, 6, 1, 3, 7, 6, 7, 2, 1,\n",
       "        2, 2, 4, 4, 5, 8, 2, 2, 8, 4, 8, 0, 7, 7, 8, 5])"
      ]
     },
     "execution_count": 19,
     "metadata": {},
     "output_type": "execute_result"
    }
   ],
   "source": [
    "y"
   ]
  },
  {
   "cell_type": "code",
   "execution_count": 20,
   "id": "3810690f",
   "metadata": {},
   "outputs": [
    {
     "data": {
      "text/plain": [
       "tensor([[-2.1533, -2.3743, -1.1461, -1.4110, -1.0082,  2.4110, -1.0309,  2.6471,\n",
       "          1.6351,  3.0332],\n",
       "        [ 0.8966, -3.4640,  3.8207, -1.1034,  3.3860, -1.9307,  2.8970, -3.5350,\n",
       "          1.6250, -2.3286],\n",
       "        [ 2.0939,  4.9700, -0.4718,  3.5316,  0.5507, -2.5586,  0.6511, -3.2166,\n",
       "         -2.5394, -2.9965],\n",
       "        [ 1.4611,  3.9662, -0.5475,  2.7792,  0.2307, -1.8047,  0.3246, -2.2987,\n",
       "         -2.0599, -2.1372],\n",
       "        [ 1.0843, -1.3007,  1.5365, -0.0598,  1.4371, -1.1456,  1.5181, -2.1510,\n",
       "          0.5132, -1.4263],\n",
       "        [ 2.2101,  3.2550,  0.1799,  2.6133,  0.8936, -2.3546,  1.0212, -3.1402,\n",
       "         -1.8566, -2.7869],\n",
       "        [ 0.8440, -0.5879,  0.9621, -0.0202,  1.0752, -0.7863,  0.9785, -1.3361,\n",
       "          0.1532, -1.2642],\n",
       "        [ 0.4572, -1.2523,  1.6189, -0.2869,  1.7436, -0.9699,  1.3593, -1.8337,\n",
       "          0.4735, -1.2723],\n",
       "        [-0.4812, -0.4935, -0.3668, -0.3233, -0.2883,  0.6510, -0.1704,  0.9279,\n",
       "          0.3344,  0.2124],\n",
       "        [-1.4759, -1.4977, -0.9214, -0.9153, -0.7689,  1.6059, -0.7024,  2.5266,\n",
       "          0.9454,  1.2388],\n",
       "        [ 0.4532, -1.2543,  2.4566, -0.3445,  2.4221, -1.4480,  1.8519, -2.3919,\n",
       "          0.2629, -1.8863],\n",
       "        [-1.5449, -1.8931, -0.7330, -1.2082, -0.5929,  1.7843, -0.6358,  2.0236,\n",
       "          1.2363,  1.9734],\n",
       "        [-1.4043, -1.7272, -0.6591, -1.0518, -0.4933,  1.4883, -0.5383,  1.9235,\n",
       "          1.4933,  0.9724],\n",
       "        [ 1.2764,  2.5762, -0.9546,  3.1652,  0.0683, -1.5335,  0.2682, -1.9829,\n",
       "         -1.4111, -1.4834],\n",
       "        [ 1.2139, -2.3274,  3.0726,  0.0360,  3.4926, -2.4676,  2.8937, -4.2275,\n",
       "          1.3503, -2.7310],\n",
       "        [ 1.6544,  3.6321, -0.3715,  2.8454,  0.3756, -1.9533,  0.5052, -2.4993,\n",
       "         -2.0007, -2.2752],\n",
       "        [ 1.0789, -0.9924,  1.7442, -0.1702,  1.4158, -1.2069,  1.4330, -2.1221,\n",
       "          0.2899, -1.6089],\n",
       "        [ 1.0839, -1.9865,  2.3945, -0.3348,  2.1930, -1.6081,  2.0776, -2.8937,\n",
       "          1.0762, -1.9305],\n",
       "        [-1.9117, -3.7045, -0.0659, -2.0577,  0.0357,  1.7515, -0.1283,  1.6229,\n",
       "          2.8430,  2.1219],\n",
       "        [ 3.9571,  0.9961,  1.4230,  2.4360,  1.8136, -3.3449,  2.3458, -4.7215,\n",
       "         -1.0175, -3.9488],\n",
       "        [ 1.6277, -1.8845,  2.0649, -0.1990,  1.7667, -1.6955,  1.9838, -3.0823,\n",
       "          1.2041, -1.8502],\n",
       "        [-1.9734, -2.0996, -1.0750, -1.2520, -0.8477,  2.0725, -0.8700,  2.9424,\n",
       "          1.5089,  1.6445],\n",
       "        [-2.7770, -2.8605, -1.5886, -1.6950, -1.3177,  2.8911, -1.3458,  4.1455,\n",
       "          1.9856,  2.7608],\n",
       "        [-2.2174, -2.4722, -1.2614, -1.5414, -1.0714,  2.4788, -1.0642,  3.1785,\n",
       "          1.7294,  2.5889],\n",
       "        [ 1.4389,  4.0200, -0.5839,  2.8106,  0.2138, -1.8188,  0.3192, -2.2533,\n",
       "         -2.0167, -2.2105],\n",
       "        [ 0.1695, -1.1907,  1.2900, -0.3882,  1.2037, -0.5483,  1.0216, -1.2415,\n",
       "          0.5762, -0.8355],\n",
       "        [ 0.8157, -2.0587,  2.9802, -0.1967,  3.1266, -2.0079,  2.4774, -3.5665,\n",
       "          0.9558, -2.2009],\n",
       "        [ 3.4446,  2.9725,  0.2636,  3.8813,  1.3699, -3.4391,  1.6549, -4.5837,\n",
       "         -1.7254, -3.8625],\n",
       "        [-2.7150, -3.3005, -1.2798, -1.9348, -1.1195,  2.8831, -1.1754,  3.1764,\n",
       "          2.3437,  3.8860],\n",
       "        [ 2.4029,  1.2776,  0.5292,  2.5079,  1.5516, -2.5361,  1.5913, -3.5716,\n",
       "         -0.7850, -2.7845],\n",
       "        [-2.2511, -4.9439,  0.6096, -2.4613,  0.5979,  1.5704,  0.3135,  0.7692,\n",
       "          4.2926,  2.0302],\n",
       "        [ 0.5344, -1.1239,  0.3283,  0.2066,  0.5769, -0.4403,  0.6549, -1.3983,\n",
       "          1.1334, -0.4215],\n",
       "        [ 0.7492,  1.4696, -0.5484,  1.8624,  0.0089, -0.8085,  0.1106, -1.0870,\n",
       "         -0.8745, -0.9396],\n",
       "        [ 2.3029,  1.1718,  0.6840,  2.4287,  1.4599, -2.4918,  1.6250, -3.5015,\n",
       "         -0.7672, -2.8622],\n",
       "        [-0.5755, -3.0285,  1.0186, -1.1678,  1.1216,  0.1512,  0.8508, -0.7226,\n",
       "          2.5187, -0.0734],\n",
       "        [ 1.8418,  0.3597,  0.7001,  0.9794,  0.8290, -1.3881,  1.1055, -2.1199,\n",
       "         -0.4737, -1.8141],\n",
       "        [-1.8165, -1.7751, -1.1380, -1.1115, -0.8816,  1.9278, -0.8495,  2.9537,\n",
       "          1.1853,  1.5756],\n",
       "        [-0.6690, -0.6307, -0.5008, -0.4152, -0.3994,  0.8545, -0.3313,  1.1854,\n",
       "          0.4251,  0.4448],\n",
       "        [-2.2697, -2.3917, -1.2060, -1.4442, -0.9816,  2.2637, -0.9500,  3.6389,\n",
       "          1.6395,  1.8547],\n",
       "        [-2.8411, -3.7166, -1.2876, -2.1564, -1.1965,  3.1179, -1.2371,  2.9444,\n",
       "          2.6061,  4.8946],\n",
       "        [ 3.7142,  0.8943,  1.4856,  2.4522,  2.0228, -3.3594,  2.3848, -4.7569,\n",
       "         -1.0116, -3.6906],\n",
       "        [ 1.7784,  4.9906, -0.6247,  3.5873,  0.4623, -2.3839,  0.4796, -2.8517,\n",
       "         -2.6596, -2.6789],\n",
       "        [ 2.5273,  1.1685,  0.8226,  2.3939,  1.7050, -2.6875,  1.7415, -3.8208,\n",
       "         -0.6703, -3.1764],\n",
       "        [-2.8500, -3.2253, -1.6124, -1.9185, -1.4377,  3.2179, -1.3830,  3.8040,\n",
       "          2.0751,  4.1209],\n",
       "        [ 1.7291, -2.0513,  3.2911,  0.1736,  3.5354, -2.7439,  3.0399, -4.4137,\n",
       "          0.8709, -3.3410],\n",
       "        [-1.3324, -1.6814, -0.6294, -1.0058, -0.5471,  1.5588, -0.5714,  1.4384,\n",
       "          1.1465,  2.0704],\n",
       "        [ 1.7578, -2.3409,  3.1484, -0.2099,  2.9448, -2.4040,  2.8077, -4.0967,\n",
       "          1.1881, -2.8312],\n",
       "        [ 1.9385,  4.2164, -0.5050,  3.5723,  0.5191, -2.4072,  0.6166, -2.9789,\n",
       "         -2.2691, -2.6692],\n",
       "        [ 0.3554, -0.6338,  1.3800,  0.0609,  1.5758, -0.9458,  1.2224, -1.7479,\n",
       "          0.2234, -1.2330],\n",
       "        [ 0.8077, -2.5051,  2.6625, -0.5913,  2.6723, -1.5944,  2.2885, -2.9503,\n",
       "          1.3349, -1.8973],\n",
       "        [ 1.4783, -2.5145,  3.0594, -0.4423,  2.7219, -2.1088,  2.6060, -3.8060,\n",
       "          1.5283, -2.4571],\n",
       "        [ 0.0562, -1.3652,  1.4839, -0.6699,  1.3329, -0.4748,  1.0908, -1.0825,\n",
       "          0.6259, -0.9609],\n",
       "        [-0.6934, -0.5862, -0.5665, -0.3351, -0.3809,  0.8338, -0.3552,  1.1443,\n",
       "          0.3965,  0.6015],\n",
       "        [ 0.7375, -4.2891,  2.9712, -1.3097,  2.7639, -1.3775,  2.5479, -3.1838,\n",
       "          2.6791, -0.9672],\n",
       "        [ 1.0697, -0.0882,  1.3137,  0.7462,  1.6974, -1.5869,  1.4288, -2.5084,\n",
       "         -0.0518, -1.9816],\n",
       "        [ 1.5277, -2.2846,  2.7122, -0.3960,  2.2181, -1.8668,  2.2924, -3.3221,\n",
       "          1.3054, -2.1866],\n",
       "        [-1.6996, -4.6095,  0.7097, -2.5086,  0.6239,  1.3035,  0.4216,  0.9639,\n",
       "          3.6864,  1.3978],\n",
       "        [ 0.3925, -2.1148,  2.6962, -0.4315,  2.7587, -1.5550,  2.1351, -2.8220,\n",
       "          1.0820, -1.8993],\n",
       "        [-2.0037, -4.0946, -0.0411, -2.2274,  0.0352,  1.8687, -0.0865,  1.9746,\n",
       "          3.2020,  1.8616],\n",
       "        [ 1.6642,  0.8062,  0.4903,  1.0255,  0.6151, -1.2773,  0.8633, -1.8361,\n",
       "         -0.7824, -1.6135],\n",
       "        [-1.8926, -1.8874, -1.1915, -1.1782, -0.9723,  2.0917, -0.9382,  3.1473,\n",
       "          1.1856,  1.8182],\n",
       "        [-2.4254, -2.5939, -1.3319, -1.5571, -1.1570,  2.5790, -1.1798,  3.5403,\n",
       "          1.8243,  2.6016],\n",
       "        [-2.9115, -4.3750, -0.3186, -2.4962, -0.1796,  2.3655, -0.4223,  2.2072,\n",
       "          3.9083,  2.8468],\n",
       "        [-1.0299, -1.1387, -0.5836, -0.7307, -0.4300,  1.2356, -0.4563,  1.4462,\n",
       "          0.7554,  1.1049]])"
      ]
     },
     "execution_count": 20,
     "metadata": {},
     "output_type": "execute_result"
    }
   ],
   "source": [
    "pred"
   ]
  },
  {
   "cell_type": "code",
   "execution_count": 33,
   "id": "1c7a6bcf",
   "metadata": {},
   "outputs": [
    {
     "name": "stdout",
     "output_type": "stream",
     "text": [
      "tensor([[0.4528, 0.8386, 0.2485, 0.2659, 0.4368, 0.8538, 0.3801, 0.9685, 0.3669,\n",
      "         0.5245],\n",
      "        [0.8788, 0.0019, 0.6686, 0.2322, 0.0193, 0.7265, 0.4546, 0.6904, 0.5858,\n",
      "         0.5711]])\n"
     ]
    },
    {
     "data": {
      "text/plain": [
       "tensor(7)"
      ]
     },
     "execution_count": 33,
     "metadata": {},
     "output_type": "execute_result"
    }
   ],
   "source": [
    "p = torch.rand((2,10))\n",
    "print(p)\n",
    "torch.argmax(p)"
   ]
  },
  {
   "cell_type": "code",
   "execution_count": 39,
   "id": "dead397e",
   "metadata": {},
   "outputs": [
    {
     "data": {
      "text/plain": [
       "tensor(0.5000)"
      ]
     },
     "execution_count": 39,
     "metadata": {},
     "output_type": "execute_result"
    }
   ],
   "source": [
    "torch.sum((torch.argmax(p, dim=1) == torch.tensor([7,1])).type(torch.float)) / len(p)"
   ]
  },
  {
   "cell_type": "code",
   "execution_count": 22,
   "id": "32e4818b",
   "metadata": {},
   "outputs": [
    {
     "name": "stdout",
     "output_type": "stream",
     "text": [
      "model size: 2.555MB\n"
     ]
    }
   ],
   "source": [
    "param_size = 0\n",
    "for param in model.parameters():\n",
    "    param_size += param.nelement() * param.element_size()\n",
    "buffer_size = 0\n",
    "for buffer in model.buffers():\n",
    "    buffer_size += buffer.nelement() * buffer.element_size()\n",
    "\n",
    "size_all_mb = (param_size + buffer_size) / 1024**2\n",
    "print('model size: {:.3f}MB'.format(size_all_mb))"
   ]
  },
  {
   "cell_type": "code",
   "execution_count": null,
   "id": "18073a58",
   "metadata": {},
   "outputs": [],
   "source": []
  }
 ],
 "metadata": {
  "kernelspec": {
   "display_name": "Python 3 (ipykernel)",
   "language": "python",
   "name": "python3"
  },
  "language_info": {
   "codemirror_mode": {
    "name": "ipython",
    "version": 3
   },
   "file_extension": ".py",
   "mimetype": "text/x-python",
   "name": "python",
   "nbconvert_exporter": "python",
   "pygments_lexer": "ipython3",
   "version": "3.9.16"
  },
  "varInspector": {
   "cols": {
    "lenName": 16,
    "lenType": 16,
    "lenVar": 40
   },
   "kernels_config": {
    "python": {
     "delete_cmd_postfix": "",
     "delete_cmd_prefix": "del ",
     "library": "var_list.py",
     "varRefreshCmd": "print(var_dic_list())"
    },
    "r": {
     "delete_cmd_postfix": ") ",
     "delete_cmd_prefix": "rm(",
     "library": "var_list.r",
     "varRefreshCmd": "cat(var_dic_list()) "
    }
   },
   "types_to_exclude": [
    "module",
    "function",
    "builtin_function_or_method",
    "instance",
    "_Feature"
   ],
   "window_display": false
  }
 },
 "nbformat": 4,
 "nbformat_minor": 5
}
