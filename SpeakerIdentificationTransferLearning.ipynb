{
 "cells": [
  {
   "cell_type": "code",
   "execution_count": 6,
   "id": "9e3afa8a",
   "metadata": {},
   "outputs": [],
   "source": [
    "import torch\n",
    "from torch import nn\n",
    "from torch.utils.data import DataLoader\n",
    "from collections import OrderedDict\n",
    "\n",
    "from torchvision import datasets\n",
    "from torchvision.models import MobileNet_V3_Small_Weights\n",
    "\n",
    "from torchvision.transforms import ToTensor\n",
    "from torch.utils.data import Dataset\n",
    "from torch.utils.data import DataLoader\n",
    "from torchvision import transforms, models, datasets\n",
    "from torchvision.io import read_image\n",
    "import matplotlib.pyplot as plt\n",
    "import numpy as np\n",
    "import pandas as pd\n",
    "import os\n",
    "\n",
    "class SpeakerIdentificationImageDataset(Dataset):\n",
    "    def __init__(self, root, transform=None, target_transform=None):\n",
    "        classes = pd.read_csv(root + os.sep + \"classes.csv\")\n",
    "        annotations_file = root + os.sep + \"annotations.csv\"\n",
    "        self.img_labels = pd.read_csv(annotations_file)\n",
    "        self.root = root\n",
    "        self.transform = transform\n",
    "        self.target_transform = target_transform\n",
    "        self.classes = [row[\"Name\"] for index, row in classes.iterrows()]\n",
    "        self.class_to_idx = {\n",
    "            row[\"Name\"]: row[\"Label\"] for index, row in classes.iterrows()\n",
    "        }\n",
    "\n",
    "    def __len__(self):\n",
    "        return len(self.img_labels)\n",
    "\n",
    "    def __getitem__(self, idx):\n",
    "        img_path = os.path.join(self.root, self.img_labels.iloc[idx, 0])\n",
    "        image = read_image(img_path)\n",
    "        label = self.img_labels.iloc[idx, 1]\n",
    "        if self.transform:\n",
    "            image = self.transform(image)\n",
    "        if self.target_transform:\n",
    "            label = self.target_transform(label)\n",
    "        return image, label\n",
    "\n",
    "def count_number_of_parameters(model):\n",
    "    return sum(p.numel() for p in model.parameters())\n"
   ]
  },
  {
   "cell_type": "code",
   "execution_count": 7,
   "id": "9710dcb1",
   "metadata": {},
   "outputs": [],
   "source": [
    "DATA_DIR = \"/Users/akashganesan/Downloads/16000_pcm_speeches\"\n",
    "IMAGE_SIZE = 64\n",
    "\n",
    "data_transforms = transforms.Compose(\n",
    "    [\n",
    "        transforms.Resize((IMAGE_SIZE, IMAGE_SIZE), antialias=True),\n",
    "        transforms.ConvertImageDtype(torch.float),\n",
    "    ]\n",
    ")\n",
    "\n",
    "dataset = SpeakerIdentificationImageDataset(DATA_DIR, transform=data_transforms)\n",
    "\n",
    "train_size = int(0.9 * len(dataset))\n",
    "test_size = len(dataset) - train_size\n",
    "training_data, test_data = torch.utils.data.random_split(\n",
    "    dataset, [train_size, test_size]\n",
    ")"
   ]
  },
  {
   "cell_type": "code",
   "execution_count": 8,
   "id": "7299d15e",
   "metadata": {},
   "outputs": [
    {
     "name": "stdout",
     "output_type": "stream",
     "text": [
      "Shape of X [N, C, H, W]: torch.Size([1, 3, 64, 64])\n",
      "Shape of y: torch.Size([1]) torch.int64\n",
      "\n",
      "X:  tensor([[[[1., 1., 1.,  ..., 1., 1., 1.],\n",
      "          [1., 1., 1.,  ..., 1., 1., 1.],\n",
      "          [1., 1., 1.,  ..., 1., 1., 1.],\n",
      "          ...,\n",
      "          [1., 1., 1.,  ..., 1., 1., 1.],\n",
      "          [1., 1., 1.,  ..., 1., 1., 1.],\n",
      "          [1., 1., 1.,  ..., 1., 1., 1.]],\n",
      "\n",
      "         [[1., 1., 1.,  ..., 1., 1., 1.],\n",
      "          [1., 1., 1.,  ..., 1., 1., 1.],\n",
      "          [1., 1., 1.,  ..., 1., 1., 1.],\n",
      "          ...,\n",
      "          [1., 1., 1.,  ..., 1., 1., 1.],\n",
      "          [1., 1., 1.,  ..., 1., 1., 1.],\n",
      "          [1., 1., 1.,  ..., 1., 1., 1.]],\n",
      "\n",
      "         [[1., 1., 1.,  ..., 1., 1., 1.],\n",
      "          [1., 1., 1.,  ..., 1., 1., 1.],\n",
      "          [1., 1., 1.,  ..., 1., 1., 1.],\n",
      "          ...,\n",
      "          [1., 1., 1.,  ..., 1., 1., 1.],\n",
      "          [1., 1., 1.,  ..., 1., 1., 1.],\n",
      "          [1., 1., 1.,  ..., 1., 1., 1.]]]])\n",
      "y:  tensor([0])\n",
      "Scalar y:  0\n",
      "label:  Jens_Stoltenberg\n"
     ]
    },
    {
     "data": {
      "image/png": "[encoded data removed]",
      "text/plain": [
       "<Figure size 640x480 with 1 Axes>"
      ]
     },
     "metadata": {},
     "output_type": "display_data"
    }
   ],
   "source": [
    "batch_size = 1\n",
    "\n",
    "# Create data loaders.\n",
    "test_dataloader = DataLoader(test_data, batch_size=batch_size)\n",
    "\n",
    "for X, y in test_dataloader:\n",
    "    print(f\"Shape of X [N, C, H, W]: {X.shape}\")\n",
    "    print(f\"Shape of y: {y.shape} {y.dtype}\\n\")\n",
    "    print(\"X: \", X)\n",
    "    print(\"y: \", y)\n",
    "    print(\"Scalar y: \", y[0].item())\n",
    "    break\n",
    "    \n",
    "label = dataset.classes[y[0].item()]\n",
    "print(\"label: \", label)\n",
    "imgplot = plt.imshow(X[0][0])"
   ]
  },
  {
   "cell_type": "code",
   "execution_count": 9,
   "id": "6d457804",
   "metadata": {},
   "outputs": [
    {
     "name": "stdout",
     "output_type": "stream",
     "text": [
      "Using cpu device\n"
     ]
    }
   ],
   "source": [
    "# Get cpu, gpu or mps device for training.\n",
    "\n",
    "device = (\n",
    "    \"cuda\"\n",
    "    if torch.cuda.is_available()\n",
    "    else \"mps\"\n",
    "    if torch.backends.mps.is_available()\n",
    "    else \"cpu\"\n",
    ")\n",
    "\n",
    "print(f\"Using {device} device\")\n"
   ]
  },
  {
   "cell_type": "code",
   "execution_count": 22,
   "id": "917d8c72",
   "metadata": {},
   "outputs": [],
   "source": [
    "FINE_TUNE = False\n",
    "\n",
    "if not FINE_TUNE:\n",
    "    for param in mobilenet.parameters():  # Freeze parameters so we don't update them\n",
    "        param.requires_grad = False\n",
    "\n",
    "mobilenet = models.mobilenet_v3_small(weights=MobileNet_V3_Small_Weights.IMAGENET1K_V1)\n",
    "\n",
    "new_layers = nn.Sequential(OrderedDict([\n",
    "    ('new1', nn.Linear(576, 500)),\n",
    "    ('relu', nn.ReLU()),\n",
    "    ('new2', nn.Linear(500, 5))\n",
    "]))\n",
    "mobilenet.classifier = new_layers\n",
    "\n"
   ]
  },
  {
   "cell_type": "code",
   "execution_count": 23,
   "id": "ddf1614f",
   "metadata": {},
   "outputs": [
    {
     "name": "stdout",
     "output_type": "stream",
     "text": [
      "torch.Size([1, 3, 64, 64])\n"
     ]
    },
    {
     "data": {
      "text/plain": [
       "torch.Size([1, 5])"
      ]
     },
     "execution_count": 23,
     "metadata": {},
     "output_type": "execute_result"
    }
   ],
   "source": [
    "mobilenet.to(device)\n",
    "model = mobilenet\n",
    "batch_size = 1\n",
    "test_dataloader = DataLoader(test_data, batch_size=batch_size)\n",
    "\n",
    "X, y = next(iter(test_dataloader))\n",
    "\n",
    "X = X.to(device)\n",
    "print(X.shape)\n",
    "pred = model(X)\n",
    "\n",
    "pred.shape"
   ]
  },
  {
   "cell_type": "code",
   "execution_count": 24,
   "id": "ec65f311",
   "metadata": {},
   "outputs": [],
   "source": [
    "def train(dataloader, model, loss_fn, optimizer):\n",
    "    losses, accuracies = [], []\n",
    "    size = len(dataloader.dataset)\n",
    "    model.train()\n",
    "    for batch, (X, y) in enumerate(dataloader):\n",
    "        X, y = X.to(device), y.to(device)\n",
    "\n",
    "        optimizer.zero_grad()\n",
    "        # Compute prediction error\n",
    "        pred = model(X)\n",
    "        loss = loss_fn(pred, y)\n",
    "\n",
    "        # Backpropagation\n",
    "        loss.backward()\n",
    "        # Nudge\n",
    "        optimizer.step()\n",
    "\n",
    "        if batch % 100 == 0:\n",
    "            loss, current = loss.item(), (batch + 1) * len(X)\n",
    "            print(f\"loss: {loss:>7f}  [{current:>5d}/{size:>5d}]\")\n",
    "            accuracy = (\n",
    "                torch.sum((torch.argmax(pred, dim=1) == y).type(torch.float)) / len(y)\n",
    "            ).item()\n",
    "            losses.append(loss)\n",
    "            accuracies.append(accuracy)\n",
    "    return losses, accuracies\n",
    "\n",
    "\n",
    "def test(dataloader, model, loss_fn):\n",
    "    size = len(dataloader.dataset)\n",
    "    num_batches = len(dataloader)\n",
    "    model.eval()\n",
    "    test_loss, correct = 0, 0\n",
    "    with torch.no_grad():\n",
    "        for X, y in dataloader:\n",
    "            X, y = X.to(device), y.to(device)\n",
    "            pred = model(X)\n",
    "            test_loss += loss_fn(pred, y).item()\n",
    "            correct += (pred.argmax(1) == y).type(torch.float).sum().item()\n",
    "    test_loss /= num_batches\n",
    "    correct /= size\n",
    "    print(\n",
    "        f\"Test Error: \\n Accuracy: {(100*correct):>0.1f}%, Avg loss: {test_loss:>8f} \\n\"\n",
    "    )"
   ]
  },
  {
   "cell_type": "code",
   "execution_count": 25,
   "id": "7b744696",
   "metadata": {},
   "outputs": [
    {
     "name": "stdout",
     "output_type": "stream",
     "text": [
      "Epoch 1\n",
      "-------------------------------\n",
      "loss: 1.668337  [   16/ 6750]\n",
      "loss: 0.177045  [ 1616/ 6750]\n",
      "loss: 0.184028  [ 3216/ 6750]\n",
      "loss: 0.244282  [ 4816/ 6750]\n",
      "loss: 0.324745  [ 6416/ 6750]\n",
      "Test Error: \n",
      " Accuracy: 94.7%, Avg loss: 0.195595 \n",
      "\n",
      "Epoch 2\n",
      "-------------------------------\n",
      "loss: 0.149088  [   16/ 6750]\n",
      "loss: 0.008522  [ 1616/ 6750]\n",
      "loss: 0.107054  [ 3216/ 6750]\n",
      "loss: 0.052583  [ 4816/ 6750]\n",
      "loss: 0.012523  [ 6416/ 6750]\n",
      "Test Error: \n",
      " Accuracy: 97.1%, Avg loss: 0.077903 \n",
      "\n",
      "Epoch 3\n",
      "-------------------------------\n",
      "loss: 0.078362  [   16/ 6750]\n",
      "loss: 0.003099  [ 1616/ 6750]\n",
      "loss: 0.008364  [ 3216/ 6750]\n",
      "loss: 0.030489  [ 4816/ 6750]\n",
      "loss: 0.328387  [ 6416/ 6750]\n",
      "Test Error: \n",
      " Accuracy: 95.6%, Avg loss: 0.131187 \n",
      "\n",
      "Epoch 4\n",
      "-------------------------------\n",
      "loss: 0.064154  [   16/ 6750]\n",
      "loss: 0.002594  [ 1616/ 6750]\n",
      "loss: 0.031639  [ 3216/ 6750]\n",
      "loss: 0.016830  [ 4816/ 6750]\n",
      "loss: 0.006787  [ 6416/ 6750]\n",
      "Test Error: \n",
      " Accuracy: 97.6%, Avg loss: 0.080843 \n",
      "\n",
      "Epoch 5\n",
      "-------------------------------\n",
      "loss: 0.022763  [   16/ 6750]\n",
      "loss: 0.090366  [ 1616/ 6750]\n",
      "loss: 0.000201  [ 3216/ 6750]\n",
      "loss: 0.360917  [ 4816/ 6750]\n",
      "loss: 0.000034  [ 6416/ 6750]\n",
      "Test Error: \n",
      " Accuracy: 99.1%, Avg loss: 0.030346 \n",
      "\n",
      "Done!\n"
     ]
    }
   ],
   "source": [
    "\n",
    "batch_size = 16\n",
    "\n",
    "model = mobilenet\n",
    "\n",
    "loss_fn = nn.CrossEntropyLoss()\n",
    "optimizer = torch.optim.Adam(model.parameters(), lr=1e-3)\n",
    "\n",
    "# Create data loaders.\n",
    "train_dataloader = DataLoader(training_data, batch_size=batch_size)\n",
    "test_dataloader = DataLoader(test_data, batch_size=batch_size)\n",
    "\n",
    "epochs = 5\n",
    "train_losses, train_accuracies = [], []\n",
    "for t in range(epochs):\n",
    "    print(f\"Epoch {t+1}\\n-------------------------------\")\n",
    "    losses, accuracies = train(train_dataloader, model, loss_fn, optimizer)\n",
    "    train_losses.extend(losses)\n",
    "    train_accuracies.extend(accuracies)\n",
    "    test(test_dataloader, model, loss_fn)\n",
    "print(\"Done!\")"
   ]
  },
  {
   "cell_type": "code",
   "execution_count": 26,
   "id": "6a1a596e",
   "metadata": {},
   "outputs": [
    {
     "data": {
      "image/png": "[encoded data removed]",
      "text/plain": [
       "<Figure size 640x480 with 1 Axes>"
      ]
     },
     "metadata": {},
     "output_type": "display_data"
    }
   ],
   "source": [
    "plt.plot(train_losses, label = \"loss\")\n",
    "plt.plot(train_accuracies, label = \"accuracy\")\n",
    "plt.legend(loc=\"upper left\")\n",
    "\n",
    "plt.show()"
   ]
  },
  {
   "cell_type": "code",
   "execution_count": 27,
   "id": "e3240926",
   "metadata": {},
   "outputs": [
    {
     "data": {
      "text/plain": [
       "1218013"
      ]
     },
     "execution_count": 27,
     "metadata": {},
     "output_type": "execute_result"
    }
   ],
   "source": [
    "count_number_of_parameters(model)"
   ]
  },
  {
   "cell_type": "code",
   "execution_count": null,
   "id": "7a601061",
   "metadata": {},
   "outputs": [],
   "source": []
  }
 ],
 "metadata": {
  "kernelspec": {
   "display_name": "Python 3 (ipykernel)",
   "language": "python",
   "name": "python3"
  },
  "language_info": {
   "codemirror_mode": {
    "name": "ipython",
    "version": 3
   },
   "file_extension": ".py",
   "mimetype": "text/x-python",
   "name": "python",
   "nbconvert_exporter": "python",
   "pygments_lexer": "ipython3",
   "version": "3.9.16"
  },
  "varInspector": {
   "cols": {
    "lenName": 16,
    "lenType": 16,
    "lenVar": 40
   },
   "kernels_config": {
    "python": {
     "delete_cmd_postfix": "",
     "delete_cmd_prefix": "del ",
     "library": "var_list.py",
     "varRefreshCmd": "print(var_dic_list())"
    },
    "r": {
     "delete_cmd_postfix": ") ",
     "delete_cmd_prefix": "rm(",
     "library": "var_list.r",
     "varRefreshCmd": "cat(var_dic_list()) "
    }
   },
   "types_to_exclude": [
    "module",
    "function",
    "builtin_function_or_method",
    "instance",
    "_Feature"
   ],
   "window_display": false
  }
 },
 "nbformat": 4,
 "nbformat_minor": 5
}
